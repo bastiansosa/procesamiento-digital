{
  "nbformat": 4,
  "nbformat_minor": 0,
  "metadata": {
    "colab": {
      "provenance": [],
      "collapsed_sections": [],
      "authorship_tag": "ABX9TyOa90zqGkHgoiloD+zd5DHg",
      "include_colab_link": true
    },
    "kernelspec": {
      "name": "python3",
      "display_name": "Python 3"
    },
    "language_info": {
      "name": "python"
    }
  },
  "cells": [
    {
      "cell_type": "markdown",
      "metadata": {
        "id": "view-in-github",
        "colab_type": "text"
      },
      "source": [
        "<a href=\"https://colab.research.google.com/github/bastiansosa/procesamiento-digital/blob/main/procesamientodigital5(sympy).ipynb\" target=\"_parent\"><img src=\"https://colab.research.google.com/assets/colab-badge.svg\" alt=\"Open In Colab\"/></a>"
      ]
    },
    {
      "cell_type": "code",
      "execution_count": null,
      "metadata": {
        "id": "88WbxmLEJj-j"
      },
      "outputs": [],
      "source": [
        "import numpy as np\n",
        "import sympy as sym\n",
        "import matplotlib.pylab as plt"
      ]
    },
    {
      "cell_type": "code",
      "source": [
        "P=2 #periodo\n",
        "t = sym.Symbol('t') #creacion de variable\n",
        "k = sym.Symbol('k') #creacion de variable\n",
        "s = sym.Piecewise( (0 , t < -P/4), (1 , t < P/4), (0, t < P/2) ) #defino la funcion x tramos\n"
      ],
      "metadata": {
        "id": "hS9iwwh2M1FL"
      },
      "execution_count": null,
      "outputs": []
    },
    {
      "cell_type": "code",
      "source": [
        "tt = np.linspace(-1,1,1001) #creo un arreglo de numeros\n",
        "ss = sym.lambdify(t,s,'numpy')(tt) #evaluo la funcion con lambdify y le doy los valores de tt\n",
        "plt.figure()\n",
        "plt.plot(tt,ss)"
      ],
      "metadata": {
        "colab": {
          "base_uri": "https://localhost:8080/",
          "height": 282
        },
        "id": "Z0NRQIL3OrWK",
        "outputId": "8c303e9e-81a4-43f1-959f-4b96c022f829"
      },
      "execution_count": null,
      "outputs": [
        {
          "output_type": "execute_result",
          "data": {
            "text/plain": [
              "[<matplotlib.lines.Line2D at 0x7f863aa94490>]"
            ]
          },
          "metadata": {},
          "execution_count": 10
        },
        {
          "output_type": "display_data",
          "data": {
            "text/plain": [
              "<Figure size 432x288 with 1 Axes>"
            ],
            "image/png": "[encoded data removed]"
          },
          "metadata": {
            "needs_background": "light"
          }
        }
      ]
    },
    {
      "cell_type": "code",
      "source": [
        "ak = sym.integrate(s*sym.cos( k*2*np.pi*t / P), (t,P/2,-P/2) )\n",
        "bk = sym.integrate(s*sym.sin( k*2*np.pi*t / P), (t,P/2,-P/2) )\n",
        "sym.lambdify(k,bk,'numpy')(2)"
      ],
      "metadata": {
        "colab": {
          "base_uri": "https://localhost:8080/"
        },
        "id": "flkpeZaXOs1S",
        "outputId": "d16521b8-4b98-479a-e6d0-db38bef4f413"
      },
      "execution_count": null,
      "outputs": [
        {
          "output_type": "execute_result",
          "data": {
            "text/plain": [
              "0"
            ]
          },
          "metadata": {},
          "execution_count": 17
        }
      ]
    },
    {
      "cell_type": "code",
      "source": [],
      "metadata": {
        "id": "Lc8FbvqjUC4g"
      },
      "execution_count": null,
      "outputs": []
    }
  ]
}